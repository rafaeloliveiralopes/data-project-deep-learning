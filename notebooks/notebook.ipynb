{
 "cells": [
  {
   "cell_type": "code",
   "execution_count": 10,
   "metadata": {},
   "outputs": [],
   "source": [
    "import numpy as np\n",
    "import torch\n",
    "import torch.nn.functional as F\n",
    "import torchvision\n",
    "import matplotlib.pyplot as plt\n",
    "from time import time\n",
    "from torchvision import datasets, transforms\n",
    "from torch import nn, optim\n",
    "\n",
    "\n",
    "transform = transforms.ToTensor() #Definindo a conversão de imagem para tensor\n",
    "\n",
    "trainset = datasets.MNIST('./MNIST_data/', download=True, train=False, transform=transform) # Carrega a parte de treino do dataset\n",
    "trainloader = torch.utils.data.DataLoader(trainset, batch_size=64, shuffle=True) # Cria um buffer para pegar os dados por partes\n",
    "\n",
    "valset = datasets.MNIST('./MNIST_data/', download=True, train=False, transform=transform) # Carrega a parte de validação do dataset\n",
    "valloader = torch.utils.data.DataLoader(valset, batch_size=64, shuffle=True) # Cria um buffer para pegar os dados por partes"
   ]
  },
  {
   "cell_type": "code",
   "execution_count": 11,
   "metadata": {},
   "outputs": [
    {
     "data": {
      "text/plain": [
       "<matplotlib.image.AxesImage at 0x7f381836dc60>"
      ]
     },
     "execution_count": 11,
     "metadata": {},
     "output_type": "execute_result"
    },
    {
     "data": {
      "image/png": "[encoded data removed]",
      "text/plain": [
       "<Figure size 640x480 with 1 Axes>"
      ]
     },
     "metadata": {},
     "output_type": "display_data"
    }
   ],
   "source": [
    "dataiter = iter(trainloader)\n",
    "imagens, etiquetas = next(dataiter) # Use next(dataiter) ao em vez de dataiter.next() para evitar erro\n",
    "plt.imshow(imagens[0].numpy().squeeze(), cmap='gray_r')"
   ]
  },
  {
   "cell_type": "code",
   "execution_count": 12,
   "metadata": {},
   "outputs": [
    {
     "name": "stdout",
     "output_type": "stream",
     "text": [
      "torch.Size([1, 28, 28])\n",
      "torch.Size([])\n"
     ]
    }
   ],
   "source": [
    "print(imagens[0].shape) # Para verificar as dimensões do tensor de cada imagem\n",
    "print(etiquetas[0].shape) # Para verificar as dimensões do tensor de cada etiqueta"
   ]
  },
  {
   "cell_type": "code",
   "execution_count": 13,
   "metadata": {},
   "outputs": [],
   "source": [
    "class Modelo(nn.Module):\n",
    "    def __init__(self):\n",
    "        super(Modelo, self).__init__()\n",
    "        self.linear1 = nn.Linear(28*28, 128) # Camada de entrada, 784 neurônios que se ligam a 128\n",
    "        self.linear2 = nn.Linear(128, 64) # Camada de entrada 1, 128 neurônios que se ligam a 64\n",
    "        self.linear3 = nn.Linear(64, 10) # Camada de entrada 2, 64 neurônios que se ligam a 10\n",
    "        # Para a camada de saída não é necessário definir nada pois só precisamos pegar o output da camada interna 2\n",
    "        \n",
    "    def forward(self, X):\n",
    "        X = F.relu(self.linear1(X)) # Função da ativação da camada de entrada para a camada interna 1\n",
    "        X = F.relu(self.linear2(X)) # Função da ativação da camada interna 1 para a camada interna 2\n",
    "        X = self.linear3(X) # Função da ativação da camada interna 2 para a camada de saída, nesse caso f(x) = X\n",
    "        return F.log_softmax(X, dim=1) # Dados utilizados para calcular a perda"
   ]
  },
  {
   "cell_type": "code",
   "execution_count": 14,
   "metadata": {},
   "outputs": [],
   "source": [
    "def treino(modelo, trainloader, device):\n",
    "        \n",
    "    otimizador = optim.SGD(modelo.paramenters(), lr=0.01, momentum=0.5) # Define a política de atualização dos pesos da bias\n",
    "    inicio = time() # Timer para sabermos quanto tempo levou o treino\n",
    "    \n",
    "    criterio = nn.NLLLoss() # Definindo o critério par calcular a perda\n",
    "    EPOCHS = 10 # Número de ephocs que o algoritmo rodará\n",
    "    modelo.train() # Ativando o modo de treino do modelo\n",
    "    \n",
    "    for epoch in range(EPOCHS):\n",
    "        perda_acumulada = 0 # Inicialização da perda acumulada da epoch em questão\n",
    "        \n",
    "        for imagens, etiquetas in trainloader:\n",
    "            \n",
    "            imagens = imagens.view(imagens.shape[0],-1) # Convertendo as imagens para \"vetores\" de 28*28 casas para ficarem compatíveis com a\n",
    "            otimizador.zero_grad() # Zerando os gradientes por conta do ciclo anterior\n",
    "            \n",
    "            output = modelo(imagens.to(device)) # Colocando os dados no modelo\n",
    "            perda_instatanea = criterio(output, etiquetas.to(device)) # Calculando a perda da epoch em questão\n",
    "            \n",
    "            perda_instatanea.backward() # Back propagation a partir da perda\n",
    "            \n",
    "            otimizador.step() # Atualizando os pesos e as bias\n",
    "            \n",
    "            perda_acumulada += perda_instatanea.item() # Atualizando a perda acumulada\n",
    "            \n",
    "    else:\n",
    "        print(\"Epoch {} - Perda resultante: {}\".format(epoch+1, perda_acumulada/len(trainloader)))\n",
    "    print(\"\\nTempo de treino (em minutos) =\", (time()-inicio)/60)"
   ]
  },
  {
   "cell_type": "code",
   "execution_count": 15,
   "metadata": {},
   "outputs": [],
   "source": [
    "def validacao(modelo, valloader, device):\n",
    "    conta_corretas, conta_todas = 0,0\n",
    "    for imagens, etiquetas in valloader:\n",
    "        for i in range(len(etiquetas)):\n",
    "            img = imagens[i].view(1,784)\n",
    "            # Desativar o autograd para acelerar a validação. Grafos computacionais dinâmicos tem um custo alto de processamento\n",
    "            with torch.no_grad():\n",
    "                logps = modelo(img.to(device)) # Output do modelo em escala logaritmica\n",
    "                \n",
    "            ps = torch.exp(logps) # Converte output para escala normal (lembrando que é um tensor)\n",
    "            probab = list(ps.cpu().numpy()[0])\n",
    "            etiqueta_pred = probab.index(max(probab)) # Converte o tensor em um número, no caso, o número que o modelo previu como correto\n",
    "            etiqueta_certa = etiquetas.numpy()[i]\n",
    "            if(etiqueta_certa == etiqueta_pred): # Compara a previsão com o valor correto\n",
    "                conta_corretas += 1\n",
    "            conta_todas += 1\n",
    "        \n",
    "        print(\"Total de imagens testadas =\", conta_todas)\n",
    "        print(\"\\nPrecisão do modelo = {}%\",format(conta_corretas*100/conta_todas))"
   ]
  },
  {
   "cell_type": "code",
   "execution_count": 16,
   "metadata": {},
   "outputs": [
    {
     "data": {
      "text/plain": [
       "Modelo(\n",
       "  (linear1): Linear(in_features=784, out_features=128, bias=True)\n",
       "  (linear2): Linear(in_features=128, out_features=64, bias=True)\n",
       "  (linear3): Linear(in_features=64, out_features=10, bias=True)\n",
       ")"
      ]
     },
     "execution_count": 16,
     "metadata": {},
     "output_type": "execute_result"
    }
   ],
   "source": [
    "modelo = Modelo()\n",
    "device = torch.device(\"cuda\" if torch.cuda.is_available() else \"cpu\")\n",
    "modelo.to(device)"
   ]
  }
 ],
 "metadata": {
  "kernelspec": {
   "display_name": "Python 3",
   "language": "python",
   "name": "python3"
  },
  "language_info": {
   "codemirror_mode": {
    "name": "ipython",
    "version": 3
   },
   "file_extension": ".py",
   "mimetype": "text/x-python",
   "name": "python",
   "nbconvert_exporter": "python",
   "pygments_lexer": "ipython3",
   "version": "3.10.4"
  }
 },
 "nbformat": 4,
 "nbformat_minor": 2
}
